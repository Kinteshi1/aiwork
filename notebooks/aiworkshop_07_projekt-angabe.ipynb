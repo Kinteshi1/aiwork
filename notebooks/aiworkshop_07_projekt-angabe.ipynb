{
 "cells": [
  {
   "cell_type": "markdown",
   "metadata": {},
   "source": [
    "# Session 2.8: Danke! Nun geht's ans Projekt"
   ]
  },
  {
   "cell_type": "markdown",
   "metadata": {
    "vscode": {
     "languageId": "plaintext"
    }
   },
   "source": [
    "## Projekt: GenAI/Conversational AI Formular-Ausfüllassistent PoC (Proof of Concept)"
   ]
  },
  {
   "cell_type": "markdown",
   "metadata": {},
   "source": [
    "### Beschreibung\n",
    "- Oft gibt es Formulare oder Fragebögen, die sehr spezifische Fragen beinhalten und mit denen sich User:innen überfordert fühlen\n",
    "- Gerne hätten sie jemanden, um näher Fragen stellen zu können oder Vorschläge/Beispiele geben zu können\n",
    "- Ein GenAI-Assistent hat das Potenzial, hier eine automatisierte beliebig vervielfältigbare Lösung darzustellen\n",
    "- Conversational AI einer der Use Cases mit meistem Potenzial\n",
    "- PoC = Minimal; zeigen, dass etwas geht oder nicht geht oder vielleicht gehen könnte"
   ]
  },
  {
   "cell_type": "markdown",
   "metadata": {},
   "source": [
    "### Kurze Demo: Formfilling Agent"
   ]
  },
  {
   "cell_type": "markdown",
   "metadata": {},
   "source": [
    "### Use Cases\n",
    "- Gerätesupport-Assistent\n",
    "- Mitarbeiter-Richtlinien-Assistent\n",
    "- Kontoeröffnungs-Assitent\n",
    "- Versicherungsberatungs-Assistent\n",
    "- Reiseplanungs-Assistent\n",
    "- Bauantrags-Assistent\n",
    "- Studienbewerbungs-Assistent\n",
    "- Fördermittel-Antragsassistent\n",
    "- Datenschutz-Compliance-Assistent\n",
    "- Steuerererklärungs-Assistent\n",
    "- Patent-Anmeldeassistent\n",
    "- Lebensmittel-Beratungsassistent\n",
    "- ..."
   ]
  },
  {
   "cell_type": "markdown",
   "metadata": {},
   "source": [
    "### Mögliche Tool-Vorschläge\n",
    "- RAG\n",
    "- Wetter-API\n",
    "- Währungsrechner-API\n",
    "- Internetsuche\n",
    "- Flug-/Zugverbindungs-API\n",
    "- Kalendermanagement\n",
    "- Openstreetmap\n",
    "- Prozentrechner\n",
    "- OpenFoodFacts (Lebensmittelinformationen)\n",
    "- ..."
   ]
  },
  {
   "cell_type": "markdown",
   "metadata": {},
   "source": [
    "### Punkteverteilung Projektarbeit: Lieferobjekte\n",
    "- 08P | 20 Seiten PDF (ca. 12k Wörter) zu einem Thema oder mehreren Themen einer Kategorie\n",
    "- 10P | Document Processing - diese 20 Seiten PDF geparst und gechunkt\n",
    "- 12P | Vektorisierung und Storage - diese 20 Seiten PDF embedded und indexiert in einer lokalen VektorDB\n",
    "- 12P | Agent-Tool für RAG - Retrieval aus der Vektor-DB durch Embedding der Query mit Embedding-Model\n",
    "- 10P | JSON Schema und Pydantic Models, mit mindestens 3 \"Klassen\" und je Klasse mindestens 3 \"Felder\", die von User:in gewünscht sind zu befüllen\n",
    "    - Beispiel: class Geschäftsanforderung(BaseModel):\n",
    "        - Problemstellung: Optional[str] = Field(None, description=\"Welche Problemstellung soll gelöst werden?\")\n",
    "        - Ziel: Optional[str] = Field(None, description=\"Welches Ziel soll erreicht werden?\")\n",
    "        - Ergebnis: Optional[str] = Field(None, description=\"Welches Ergebnis soll erzielt werden?\")\n",
    "        - FachlicheAnforderungen: Optional[str] = Field(None, description=\"Welche fachlichen Anforderungen sollen erfüllt werden?\")\n",
    "        - NichtFunktionaleAnforderungen: Optional[str] = Field(None, description=\"Welche nicht funktionalen Anforderungen gibt es?\")\n",
    "- 17P | Weitere nötige Tools, nötige Agenten, Kontextmanagement -> Anwendung von Agent Patterns\n",
    "    - Beispiele Tools\n",
    "        - extract_form_fields\n",
    "        - update_form\n",
    "        - get_form_summary\n",
    "        - save_form\n",
    "        - ...\n",
    "    - Beispiele Agenten\n",
    "        - Dynamic Form Agent\n",
    "        - Form Field Extractor\n",
    "- 10P | UseCase-Beschreibung und Mermaid Diagramm (Sequence-Diagramm oder wenn gewünscht ein anderes)\n",
    "- 10P | Anwendungsfunktionalität: lässt sich starten, lässt sich von Beginn bis Ende durchführen mit einem JSON Endergebnis (Chat als Loop)\n",
    "- 06P | Stats und Tracking (Tokenverbrauch, Items und deren Abfolgen in RunResult) bewusst und dokumentiert\n",
    "- 05P | mind. 3 erfolgreiche Fälle, mind. 3 weniger erfolgreiche Fälle - genug Erfahrungen teilen\n",
    "- GESAMT 100P -> macht 50% der Gesamtnote aus\n",
    "\n"
   ]
  },
  {
   "cell_type": "markdown",
   "metadata": {},
   "source": [
    "### Präsentation\n",
    "- Infos\n",
    "    - 10 Minuten pro Gruppe\n",
    "    - Ihr könnt entscheiden, wer präsentiert - Punkte bekommt die ganze Gruppe\n",
    "    - Visuelle Unterstützung - wie, entscheidet ihr (Powerpoint, Dokument, ...)\n",
    "    - Es muss ein Live Demo Element dabei sein\n",
    "    - Abgabe: Visuelle Unterstützung auf Moodle unter \"Präsentation\" hochladen\n",
    "- Punkteverteilung\n",
    "    - 10P | Einhaltung 10 Minuten +/- 2 Minuten\n",
    "    - 15P | Beschreibung des Use-Cases\n",
    "    - 20P | Soll eine Live-Demo enthalten\n",
    "    - 10P | Soll ein Diagramm enthalten (Sequence, Prozess-Flow, ...)\n",
    "    - 25P | Benützte Komponenten, Parameter/Stats und Erfahrungen bei allen Schritten in der RAG-Pipeline \n",
    "        - [Parsing -> Chunking -> Embedding -> Indexing -> Retrieval (Abruf) -> (Reranking) -> Augmented (erweiterte) Generation]\n",
    "        - Welches Embedding-Model (welche Dimensionen), welches Generation-Model? Verschiedene ausprobiert?\n",
    "        - Welche Agent Patterns wurden angewandt?\n",
    "    - 20P | Grober Code-Walkthrough\n",
    "    - GESAMT 100P -> macht 20% der Gesamtnote aus"
   ]
  },
  {
   "cell_type": "markdown",
   "metadata": {
    "vscode": {
     "languageId": "plaintext"
    }
   },
   "source": [
    "### Weiteres"
   ]
  },
  {
   "cell_type": "markdown",
   "metadata": {
    "vscode": {
     "languageId": "plaintext"
    }
   },
   "source": [
    "- Pydantic JSON Parsing: https://docs.pydantic.dev/latest/concepts/json/"
   ]
  }
 ],
 "metadata": {
  "language_info": {
   "name": "python"
  }
 },
 "nbformat": 4,
 "nbformat_minor": 2
}
