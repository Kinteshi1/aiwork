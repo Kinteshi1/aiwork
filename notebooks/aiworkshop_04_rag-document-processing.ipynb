{
 "cells": [
  {
   "cell_type": "markdown",
   "metadata": {},
   "source": [
    "# Session 2.4: Document Processing"
   ]
  },
  {
   "cell_type": "markdown",
   "metadata": {},
   "source": [
    "## Quellen"
   ]
  },
  {
   "cell_type": "markdown",
   "metadata": {},
   "source": [
    "- Docling: https://github.com/docling-project/docling\n",
    "    - als API lokal zur Verfügung stellen oder als Library in Python importieren\n",
    "    "
   ]
  },
  {
   "cell_type": "markdown",
   "metadata": {},
   "source": [
    "## Praxis"
   ]
  },
  {
   "cell_type": "markdown",
   "metadata": {},
   "source": [
    "### 🛠️ Imports"
   ]
  },
  {
   "cell_type": "code",
   "execution_count": 1,
   "metadata": {},
   "outputs": [],
   "source": [
    "from aiworkshop_utils.standardlib_imports import os, json, base64, logging, Optional, Any, Dict, List, pprint, shutil, glob\n",
    "from aiworkshop_utils.thirdparty_imports import AutoTokenizer, load_dotenv, requests, BaseModel, Field, pd, cosine_similarity, plt, np, DataType, MilvusClient, tqdm, SentenceTransformer\n",
    "from aiworkshop_utils.custom_utils import show_pretty_json, encode_image, load_md_sections_from_path\n",
    "from aiworkshop_utils.jupyter_imports import Markdown, HTML, widgets, display, JSON\n",
    "from aiworkshop_utils.docling_imports import PyPdfiumDocumentBackend, HybridChunker, InputFormat, AcceleratorDevice, AcceleratorOptions, PdfPipelineOptions, DocumentConverter, PdfFormatOption, WordFormatOption, SimplePipeline\n",
    "from aiworkshop_utils.openai_imports import openaisdk_client_chat_completions_create\n",
    "from aiworkshop_utils import config\n",
    "from aiworkshop_utils import embedders"
   ]
  },
  {
   "cell_type": "markdown",
   "metadata": {},
   "source": [
    "### 💡 Konzept: Document Processing - das Fundament eines erfolgreichen RAG-Systems"
   ]
  },
  {
   "cell_type": "markdown",
   "metadata": {},
   "source": [
    "- Was ist Document Processing?\n",
    "    - Unstrukturierte/Semi-Strukturierte Daten (PDFs, Word-Dateien, Webseiten, Scans, E-Mails, Powerpoint, Excel, MD ...) werden so aufbereitet, dass die Inhalte effizient durchsucht werden können\n",
    "    - Die Dokumente können dann auch als Grundlage für einen RAG-Prozess (Retrieval Augmented Generation) dienen\n",
    "\n",
    "- Der ganze RAG-Prozess -> Welche Schritte sind hier inkludiert?\n",
    "    - Parsing: Dokumente analysieren und in maschinenlesbare Textdaten überführen (z.B. Markdown oder JSON)\n",
    "    - Chunking: Textdaten werden in sinnvolle, inhaltlich zusammenhängende Abschnitte = Chunks zerlegt, um für semantische Suche zu dienen\n",
    "    - Embedding: Chunks werden in Vektorraum eines Embedding-Modelles eingebettet\n",
    "    - Indexing: Diese eingebetteten Chunks = Vektoren werden gemeinsam mit den Metadaten (richtiger Text, Überschriften, Seitennummer, ...) in einer Vektordatenbank indexiert\n",
    "    - Retrieval: Ein Prompt eines Users an ein Generations-Modell wird mit dem gleichen Embedding-Modell eingebettet -> daraus entstehen Vektoren. Damit werden die ähnlichsten Vektoren der eingebetteten Chunks gesucht und gereiht (z.B. die besten 3)\n",
    "    - Generation: Die Texte aus den Metadaten der Ergebnisse des Retrievals werden in den Kontext der Konversation eines Users mit einem Generations-Modell gebracht und im Systemprompt wird das Modell angewiesen, sich bei der Beantwortung der Frage auf diese Texte zu beziehen.\n",
    "    - -> darum heißt es Retrieval-Augmented-Generation: Es wird vom Generations-Modell ein Text generiert, der durch Retrieval bereichert (\"erweitert\") wurde\n",
    "\n",
    "- Welche Technologien werden beim Document Processing angewandt?\n",
    "    - Textextraktion, z.B. durch OCR (Optical Character Recognition)\n",
    "    - Bereinigung/Vorverarbeitung (Fußzeilen, Formatierungen usw. entfernen)\n",
    "    - Chunking: Unterteilung der Texte in sinnvolle Abschnitte - typischerweise 100-500 Wörter - wichtig ist, dass Kontext erhalten bleibt in einem Chunk!\n",
    "    - Embedding -> Jeder Chunk wird in einen Vektor mit seinen Dimensionen umgewandelt\n",
    "        - z.B. \"Document Processing ist wichtig für den RAG Prozess.\" -> wenn ein Modell mit 4 Dimensionen einbettet, z.B. Vektor: [-0.3402, 1.2039, 2.2039, -1.1230]\n",
    "    - Speicherung in einer Vektordatenbank: Embeddings und Metadaten (Quelle, Abschnitt, Seitenzahl, Topic, ...)\n",
    "\n",
    "- Was passiert, wenn es kein gutes Document Processing gibt?\n",
    "    - Relevante Informationen werden nicht gefunden (weil z.B. zu große Chunks)\n",
    "    - Es werden falsche oder unvollständige Antworten gegeben (unzureichende oder falsch struktuierte Kontextinformationen)\n",
    "    - semantischer Kontext kannn verloren gehen (wenn z.B. Chunk-Grenzen willlkürlich gesetzt sind oder inhaltlich logisch zerhackt werden)\n",
    "\n",
    "- Welche gute Software gibt es dafür?\n",
    "    - z.B. Docling (von IBM, aber Open Source)\n",
    "    - Docling als Service lokal mit API ansprechbar hosten oder als Modul in Python importieren (so wie wir es machen)\n"
   ]
  },
  {
   "cell_type": "markdown",
   "metadata": {},
   "source": [
    "### ⚡ Ein Dokument mit dem Default Docling DocumentConverter konvertieren"
   ]
  },
  {
   "cell_type": "markdown",
   "metadata": {},
   "source": [
    "![Docling DocumentConverter Architecture](assets/image08_docling-architecture.png)"
   ]
  },
  {
   "cell_type": "markdown",
   "metadata": {},
   "source": [
    "- DocumentConverter\n",
    "    - https://docling-project.github.io/docling/reference/document_converter/\n",
    "- ConversionResult\n",
    "    - converter.convert(source) ergibt die Klasse ConversionResult\n",
    "    - https://docling-project.github.io/docling/reference/document_converter/#docling.document_converter.ConversionResult\n",
    "- export_to_markdown\n",
    "    - damit kann man das ConversionResult.document zu Markdown exportieren, das man später mit einem Modell embedden kann\n",
    "    - https://docling-project.github.io/docling/reference/docling_document/#docling_core.types.doc.DoclingDocument.export_to_markdown"
   ]
  },
  {
   "cell_type": "code",
   "execution_count": null,
   "metadata": {},
   "outputs": [],
   "source": [
    "source = \"https://arxiv.org/pdf/2408.09869\"  # Dokument als lokaler Pfad oder URL\n",
    "converter = DocumentConverter()\n",
    "result = converter.convert(source)\n",
    "print(result.document.export_to_markdown())  # Output: \"## Docling Technical Report[...]\""
   ]
  },
  {
   "cell_type": "markdown",
   "metadata": {},
   "source": [
    "- Optionen, besonders für PDF-Processing, im DocumentConverter einstellen\n",
    "\n",
    "```\n",
    "pipeline_options = PdfPipelineOptions()\n",
    "\n",
    "pipeline_options.do_ocr = True\n",
    "pipeline_options.do_table_structure = True\n",
    "pipeline_options.table_structure_options.do_cell_matching = True\n",
    "pipeline_options.ocr_options.lang = [\"en\"]\n",
    "pipeline_options.accelerator_options = AcceleratorOptions(\n",
    "    num_threads=4,\n",
    "    device=AcceleratorDevice.CPU\n",
    ")\n",
    "\n",
    "converter = DocumentConverter(\n",
    "    \n",
    "    allowed_formats=[\n",
    "        InputFormat.PDF,\n",
    "        InputFormat.IMAGE,\n",
    "        InputFormat.DOCX,\n",
    "        InputFormat.HTML,\n",
    "        InputFormat.PPTX,\n",
    "    ],\n",
    "    \n",
    "    format_options={\n",
    "        \n",
    "        InputFormat.PDF: PdfFormatOption(\n",
    "            pipeline_options=pipeline_options,\n",
    "            backend=PyPdfiumDocumentBackend     # OpenSource Google C++-Lib zum Rendern und Verarbeiten von PDF-Dateien\n",
    "        ),\n",
    "        \n",
    "        InputFormat.DOCX: WordFormatOption(\n",
    "            pipeline_cls=SimplePipeline\n",
    "        ),\n",
    "    },\n",
    ")\n",
    "```"
   ]
  },
  {
   "cell_type": "markdown",
   "metadata": {},
   "source": [
    "- Benutzt Docling KI-Modelle im Hintergrund bei der Prozessierung?\n",
    "    - Ja, z.B. DocLayNet für Layout-Analyse, z.B. TableFormer für die Erkennung von Tabellenstrukturen"
   ]
  },
  {
   "cell_type": "markdown",
   "metadata": {},
   "source": [
    "### 💡 Konzept: Chunking (\"Zerstückelung\")"
   ]
  },
  {
   "cell_type": "markdown",
   "metadata": {},
   "source": [
    "- Geparste Textdaten werden intelligent in Abschnitte aufgeteilt, die jeweils semantisch noch verständlich sind\n",
    "- Docling Chunking Eintrag: https://docling-project.github.io/docling/concepts/chunking/"
   ]
  },
  {
   "cell_type": "code",
   "execution_count": null,
   "metadata": {},
   "outputs": [],
   "source": [
    "# Chunking durchführen\n",
    "chunker = HybridChunker(tokenizer=\"sentence-transformers/all-MiniLM-L6-v2\")\n",
    "chunks = list(chunker.chunk(result.document))\n",
    "\n",
    "# Ausgabe der Chunks\n",
    "print(f\"\\nEs wurden {len(chunks)} Chunks erstellt:\\n\")\n",
    "for i, chunk in enumerate(chunks[:5], 1):\n",
    "    print(f\"--- Chunk {i} ---\")\n",
    "    print(\"Text:\", chunk.text.strip()[:300], \"...\\n\")\n",
    "\n",
    "    meta = getattr(chunk, \"meta\", None) # meta ist ein Pydantic Model - Docling verwendet Pydantic intern\n",
    "    headings = getattr(meta, \"headings\", []) if meta else []\n",
    "    page_info = getattr(meta, \"page_info\", \"Unknown\") if meta else \"Unknown\"\n",
    "    content_type = getattr(meta, \"content_type\", \"Unknown\") if meta else \"Unknown\"\n",
    "\n",
    "    print(\"Headings:\", headings)\n",
    "    print(\"Page:\", page_info)\n",
    "    print(\"Content-Type:\", content_type)\n",
    "    print(\"-\" * 50)"
   ]
  },
  {
   "cell_type": "markdown",
   "metadata": {},
   "source": [
    "### 🏋️ **[ÜBUNG_2.4.01]** Document-Processing-Klasse erstellen"
   ]
  },
  {
   "cell_type": "markdown",
   "metadata": {},
   "source": [
    "- *Diese Übung ist Teil von ÜBUNG4. Speichere deine Ergebnisse und Notizen in einem File (Word), füge dann noch die restlichen Übungen dieser Session 2.4 hinzu und lade sie auf Moodle unter \"Abgabe Übung 4\" bis zum 20.05.25 hoch.*\n",
    "\n",
    "- Was soll sie können?\n",
    "    - init (Constructor)\n",
    "    - Funktion für einen Docling DocumentConverter erstellen mit bestimmten Optionen\n",
    "    - Funktion für einen Index erstellen für temporären Speicher (noch keine DB)\n",
    "    - Funktion für Dokument prozessieren\n",
    "    - Funktion für Chunking des Ergebnisses der Prozessierung (kann gerne ein Chunker von Docling sein)\n",
    "\n",
    "- darf nicht exakt gleich sein wie die Lösung hier!\n",
    "\n",
    "- Falls noch Zeit\n",
    "    - Funktion für Kontext formatieren\n",
    "    - Funktion für einfache Vektorsuche\n",
    "    - Funktion für Query"
   ]
  },
  {
   "cell_type": "markdown",
   "metadata": {},
   "source": [
    "### 🔓 **[LÖSUNG_2.4.01]** Document-Processing-Klasse erstellen"
   ]
  },
  {
   "cell_type": "code",
   "execution_count": null,
   "metadata": {},
   "outputs": [],
   "source": []
  },
  {
   "cell_type": "markdown",
   "metadata": {},
   "source": [
    "### ⚡ Dokument mit Document Processor Klasse prozessieren\n"
   ]
  },
  {
   "cell_type": "code",
   "execution_count": 3,
   "metadata": {},
   "outputs": [],
   "source": [
    "# Example instantiation and usage\n",
    "ects_guide_processor = DocumentProcessor(embedders.OllamaEmbedder(\n",
    "    url=config.OAPI_EMBED_URL,\n",
    "    model_name=config.OMODEL_NOMIC\n",
    "))"
   ]
  },
  {
   "cell_type": "code",
   "execution_count": 4,
   "metadata": {},
   "outputs": [
    {
     "name": "stdout",
     "output_type": "stream",
     "text": [
      "Converting document: doc_storage/ECTS_Guide_BSWE-pages-1-10.pdf\n",
      "Chunking document...\n"
     ]
    },
    {
     "name": "stderr",
     "output_type": "stream",
     "text": [
      "Token indices sequence length is longer than the specified maximum sequence length for this model (596 > 512). Running this sequence through the model will result in indexing errors\n"
     ]
    },
    {
     "name": "stdout",
     "output_type": "stream",
     "text": [
      "Created 18 chunks\n",
      "Processing chunks and extracting metadata...\n"
     ]
    },
    {
     "name": "stderr",
     "output_type": "stream",
     "text": [
      "Extracting metadata: 100%|██████████| 18/18 [00:00<00:00, 128615.80it/s]\n"
     ]
    },
    {
     "name": "stdout",
     "output_type": "stream",
     "text": [
      "Generating embeddings and building index...\n",
      "Finished processing document. Index contains 18 chunks.\n"
     ]
    }
   ],
   "source": [
    "# Update the path to your document\n",
    "pdf_path = \"doc_storage/ECTS_Guide_BSWE-pages-1-10.pdf\"\n",
    "\n",
    "# Check if the document exists\n",
    "if os.path.exists(pdf_path):\n",
    "    ects_guide_processor.process_document(pdf_path)\n",
    "else:\n",
    "    print(f\"Document not found: {pdf_path}\")\n",
    "    print(\"Please update the pdf_path variable with the correct path to your document.\")"
   ]
  },
  {
   "cell_type": "markdown",
   "metadata": {},
   "source": [
    "- Chunk-Schema:\n",
    "\n",
    "```\n",
    "{\n",
    "    \"text\": \"LV Art Course Type, I0859GDI01 = Integrierte Lehrveranstaltung Integrated Course. ...\",\n",
    "    \"headings\": [\"Grundlagen der Informatik\", \"Foundations of Computer Science\"],\n",
    "    \"page_info\": 3,\n",
    "    \"content_type\": \"text\",  # oder z. B. \"table\" oder \"figure\"\n",
    "    \"vector\": [0.123, -0.456, ..., 0.015]  # → 768-dimensionaler Embedding-Vektor vom Modell\n",
    "}\n",
    "```"
   ]
  },
  {
   "cell_type": "code",
   "execution_count": 7,
   "metadata": {},
   "outputs": [
    {
     "name": "stdout",
     "output_type": "stream",
     "text": [
      "18\n"
     ]
    }
   ],
   "source": [
    "print(len(ects_guide_processor.index))\n"
   ]
  },
  {
   "cell_type": "code",
   "execution_count": 13,
   "metadata": {},
   "outputs": [
    {
     "data": {
      "text/markdown": [
       "```json\n",
       "{\n",
       "  \"text\": \"LV Nummer Course number, 1 = I0859GPR03. LV Art Course Type, 1 = Integrierte Lehrveranstaltung Integrated Course. Semester, 1 = 3. Lehreinheiten Teaching units, 1 = 60. ECTS, 1 = 6 ECTS. Bewertungsmethode Evaluation method, 1 = Immanenter Pr\\u00fcfungscharakter Continuous assessment. Lehrveranstaltungsinhalte Content, 1 = \\u2022  Grundlagen des User Interface Designs \\u2022  Kriterien f\\u00fcr UI - Designs \\u2022  Werkzeuge f\\u00fcr die Oberfl\\u00e4chengestaltung \\u2022  Basics of user interface design \\u2022  Criteria for UI designs \\u2022  Tools for UI design\\nLE0435_I_0859_ECTS_Guide_BSWE_2025 KP01LE \\u2013 LE0400 erstellt: 29.04.2022/frn\",\n",
       "  \"headings\": [\n",
       "    \"Human Interface Design\"\n",
       "  ],\n",
       "  \"page_info\": null,\n",
       "  \"content_type\": null,\n",
       "  \"vector\": [\n",
       "    -0.023945624,\n",
       "    -0.019180695,\n",
       "    -0.13686816,\n",
       "    -0.08257686,\n",
       "    0.004624458,\n",
       "    0.049778257,\n",
       "    0.059064027,\n",
       "    -0.032191373,\n",
       "    0.027657645,\n",
       "    0.0060658427,\n",
       "    \"... (758 more elements)\"\n",
       "  ]\n",
       "}\n",
       "```"
      ],
      "text/plain": [
       "<IPython.core.display.Markdown object>"
      ]
     },
     "metadata": {},
     "output_type": "display_data"
    }
   ],
   "source": [
    "show_pretty_json(ects_guide_processor.index[17])"
   ]
  },
  {
   "cell_type": "code",
   "execution_count": 16,
   "metadata": {},
   "outputs": [
    {
     "data": {
      "text/markdown": [
       "```json\n",
       "{\n",
       "  \"path\": \"doc_storage/ECTS_Guide_BSWE-pages-1-10.pdf\",\n",
       "  \"filename\": \"ECTS_Guide_BSWE-pages-1-10.pdf\",\n",
       "  \"num_pages\": 10\n",
       "}\n",
       "```"
      ],
      "text/plain": [
       "<IPython.core.display.Markdown object>"
      ]
     },
     "metadata": {},
     "output_type": "display_data"
    }
   ],
   "source": [
    "show_pretty_json(ects_guide_processor.document_info)"
   ]
  },
  {
   "cell_type": "markdown",
   "metadata": {},
   "source": [
    "### ⚡ Fragen stellen zu Dokumenten-Inhalten"
   ]
  },
  {
   "cell_type": "code",
   "execution_count": 17,
   "metadata": {},
   "outputs": [
    {
     "name": "stdout",
     "output_type": "stream",
     "text": [
      "Question: Welche LV Art ist Betriebssysteme und wie viele ECTS gibt es da?\n",
      "Processing query: Welche LV Art ist Betriebssysteme und wie viele ECTS gibt es da?\n"
     ]
    },
    {
     "data": {
      "text/markdown": [
       "### Retrieved Document Chunks"
      ],
      "text/plain": [
       "<IPython.core.display.Markdown object>"
      ]
     },
     "metadata": {},
     "output_type": "display_data"
    },
    {
     "data": {
      "text/markdown": [
       "**Chunk 1** - Betriebssysteme /  / Operating Systems (Unknown page)"
      ],
      "text/plain": [
       "<IPython.core.display.Markdown object>"
      ]
     },
     "metadata": {},
     "output_type": "display_data"
    },
    {
     "data": {
      "text/markdown": [
       "\n",
       "LV Art Course Type, I0859GDI02 = Integrierte Lehrveranstaltung Integrated Course. Semester, I0859GDI02 = 1. Lehreinheiten Teaching units, I0859GDI02 = 60. ECTS, I0859GDI02 = 6 ECTS. Bewertungsmethode Evaluation method, I0859GDI02 = Immanenter Prüfungscharakter Continuous assessment. Lehrveranstaltungsinhalte Content, I0859GDI02 = •  Systematik der Betriebssysteme •  Speichersysteme, Cache und Speicherorganisation •  E/A-Schnittstellen und Kommunikation •  Interrupthandling •  Pipelining •  Superskalare und Multiprozessor-Architekturen •  Sicherheitskonzepte in Betriebssystemen •  Rechteverwaltung •  Unix und Linux •  Grundlagen Maschinencode •  Windows •  Bash und Powershell •  Systematics of operating systems •  Storage systems, cache, and storage organization •  I/O interfaces and communication •  Interrupt handling •  Pipelining •  Superscalar and multiprocessor architectures •  Security concepts in operating systems •  Rights management •  Unix and Linux •  Basics machine code •  Windows •  Bash and PowerShell\n"
      ],
      "text/plain": [
       "<IPython.core.display.Markdown object>"
      ]
     },
     "metadata": {},
     "output_type": "display_data"
    },
    {
     "name": "stdout",
     "output_type": "stream",
     "text": [
      "---\n"
     ]
    },
    {
     "data": {
      "text/markdown": [
       "**Chunk 2** - Mathematische Grundlagen und angewandte Statistik / Mathematical Foundations and Applied Statistics (Unknown page)"
      ],
      "text/plain": [
       "<IPython.core.display.Markdown object>"
      ]
     },
     "metadata": {},
     "output_type": "display_data"
    },
    {
     "data": {
      "text/markdown": [
       "\n",
       "LV Art Course Type, I0859MUS01 = Integrierte Lehrveranstaltung Integrated Course. Semester, I0859MUS01 = 1. Lehreinheiten Teaching units, I0859MUS01 = 60. ECTS, I0859MUS01 = 6 ECTS. Bewertungsmethode Evaluation method, I0859MUS01 = Immanenter Prüfungscharakter Continuous assessment. Lehrveranstaltungsinhalte Content, I0859MUS01 = •  Mathematische Grundlagen •  Axiomatik, Ableiten, Beweisen •  Relation, Operatoren, Algebren •  Gruppen, Ringe, Körper, Verbände, Boole´sche  Algebren, Algebren formaler Sprachen,  Homomorphismen •  Zahlensysteme (Natürliche, ganze, rationale, reelle  Zahlen) •  Angewandte Statistik •  Deskriptive Statistik (die statistische Verteilung,  Darstellung eindimensionaler Verteilungen,  Verteilungsmaßzahlen, Korrelation und Regression) •  Einführung in die Kombinatorik\n",
       "7/35\n",
       "LE0435_I_0859_ECTS_Guide_BSWE_2025 KP01LE – LE0400 erstellt: 29.04.2022/frn\n",
       "geprüft: 06.03.2025/knf\n",
       "Version 1.0 - zuletzt geändert: 20.02.2025/scl freigegeben: 06.03.2025/knf\n",
       "Hochschule Burgenland ECTS-Guide | Bachelorstudiengang Software Engineering und vernetzte Systeme / Bachelor's programme Software Engineering and Connected Systems | Seite 8\n"
      ],
      "text/plain": [
       "<IPython.core.display.Markdown object>"
      ]
     },
     "metadata": {},
     "output_type": "display_data"
    },
    {
     "name": "stdout",
     "output_type": "stream",
     "text": [
      "---\n"
     ]
    },
    {
     "data": {
      "text/markdown": [
       "**Chunk 3** - Grundlagen der Informatik / Foundations of Computer Science (Unknown page)"
      ],
      "text/plain": [
       "<IPython.core.display.Markdown object>"
      ]
     },
     "metadata": {},
     "output_type": "display_data"
    },
    {
     "data": {
      "text/markdown": [
       "\n",
       "LV Art Course Type, I0859GDI01 = Integrierte Lehrveranstaltung Integrated Course. Semester, I0859GDI01 = 1. Lehreinheiten Teaching units, I0859GDI01 = 60. ECTS, I0859GDI01 = 6 ECTS. Bewertungsmethode Evaluation method, I0859GDI01 = Immanenter Prüfungscharakter Continuous assessment. Lehrveranstaltungsinhalte Content, I0859GDI01 = •  Überblick über das Berufsfeld des Informatikers sowie  Orientierung im Fachgebiet •  Theoretische und technische Informatik •  Zahlensysteme •  Boolesche Algebra •  Normalformen •  Schaltkreise und Schaltnetze •  Rechnermodelle •  Rechnerarchitekturen und Bewertungen •  Codierungstheorie inkl. 2- und 3-dimensionaler Codes •  Informationstheorie •  Praktische und angewandte Informatik •  Betriebssysteme •  Netzwerke •  Programmierung und Programmiersprachen •  Compiler - Interpreter •  Algorithmen und Datenstrukturen •  Datenhaltung •  Fachbereiche der angewandten Informatik •  Overview of the occupational field of the computer  scientist as well as orientation in the subject area •  Theoretical and technical computer science •  Number systems •  Boolean algebra •  Normal forms •  Circuits and switching networks •  Computer models •  Computer architectures and evaluations •  Coding theory incl. 2- and 3-dimensional codes •  Information Theory •  Practical and applied computer science •  Operating systems •  Networks •  Programming and programming languages •  Compiler - Interpreter •  Algorithms and data structures\n",
       "geprüft: 06.03.2025/knf\n",
       "Version 1.0 - zuletzt geändert: 20.02.2025/scl freigegeben: 06.03.2025/knf\n"
      ],
      "text/plain": [
       "<IPython.core.display.Markdown object>"
      ]
     },
     "metadata": {},
     "output_type": "display_data"
    },
    {
     "name": "stdout",
     "output_type": "stream",
     "text": [
      "---\n"
     ]
    },
    {
     "data": {
      "text/markdown": [
       "**Chunk 4** - Human Interface Design (Unknown page)"
      ],
      "text/plain": [
       "<IPython.core.display.Markdown object>"
      ]
     },
     "metadata": {},
     "output_type": "display_data"
    },
    {
     "data": {
      "text/markdown": [
       "\n",
       "LV Nummer Course number, 1 = I0859GPR03. LV Art Course Type, 1 = Integrierte Lehrveranstaltung Integrated Course. Semester, 1 = 3. Lehreinheiten Teaching units, 1 = 60. ECTS, 1 = 6 ECTS. Bewertungsmethode Evaluation method, 1 = Immanenter Prüfungscharakter Continuous assessment. Lehrveranstaltungsinhalte Content, 1 = •  Grundlagen des User Interface Designs •  Kriterien für UI - Designs •  Werkzeuge für die Oberflächengestaltung •  Basics of user interface design •  Criteria for UI designs •  Tools for UI design\n",
       "LE0435_I_0859_ECTS_Guide_BSWE_2025 KP01LE – LE0400 erstellt: 29.04.2022/frn\n"
      ],
      "text/plain": [
       "<IPython.core.display.Markdown object>"
      ]
     },
     "metadata": {},
     "output_type": "display_data"
    },
    {
     "name": "stdout",
     "output_type": "stream",
     "text": [
      "---\n"
     ]
    },
    {
     "data": {
      "text/markdown": [
       "**Chunk 5** - Formale Grundlagen und Datenbanken / Formal Foundations and Databases (Unknown page)"
      ],
      "text/plain": [
       "<IPython.core.display.Markdown object>"
      ]
     },
     "metadata": {},
     "output_type": "display_data"
    },
    {
     "data": {
      "text/markdown": [
       "\n",
       "LV Art Course Type, I0859GDI03 = Integrierte Lehrveranstaltung Integrated Course. Semester, I0859GDI03 = 2. Lehreinheiten Teaching units, I0859GDI03 = 60\n",
       "Bewertungsmethode Evaluation method, 6 ECTS = Immanenter Prüfungscharakter Continuous assessment. Lehrveranstaltungsinhalte Content, 6 ECTS = •  Formale Grundlagen •  Logische Grundlagen (Aussagenlogik, Prädikatenlogik,  Beweissysteme, Logische Programmierung) •  Formale Sprachen, Automaten •  Algebraische Grundlagen (Relationen-Algebren,  Vektorräume als Algebren, Mengenlehre) •  Datenbanken •  Relationenmodell •  Normierungen •  Anwendung der algebraischen Grundlagen in einem  relationalen Datenbanksystem mittels Modellierung und  SQL •  Formal basics •  Logical basics (propositional logic, predicate logic, proof  systems, logical programming) •  Formal languages, automata •  Algebraic basics (relations-algebras, vector spaces as  algebras, set theory) •  Databases •  Relation model •  Standardizations •  Application of algebraic fundamentals in a relational  database system using modeling and SQL\n"
      ],
      "text/plain": [
       "<IPython.core.display.Markdown object>"
      ]
     },
     "metadata": {},
     "output_type": "display_data"
    },
    {
     "name": "stdout",
     "output_type": "stream",
     "text": [
      "---\n"
     ]
    },
    {
     "data": {
      "text/markdown": [
       "### Answer:\n",
       "Die LV Art (Lehrveranstaltungsart) von \"Betriebssysteme\" ist \"Integrierte Lehrveranstaltung\", wie im Excerpt 1 angegeben. Es gibt 6 ECTS für diese Lehrveranstaltung, basierend auf der Information im selben Excerpt."
      ],
      "text/plain": [
       "<IPython.core.display.Markdown object>"
      ]
     },
     "metadata": {},
     "output_type": "display_data"
    }
   ],
   "source": [
    "question = \"Welche LV Art ist Betriebssysteme und wie viele ECTS gibt es da?\"\n",
    "print(f\"Question: {question}\")\n",
    "answer = ects_guide_processor.query(question, show_retrieved_chunks=True)\n",
    "display(Markdown(f\"### Answer:\\n{answer}\"))"
   ]
  },
  {
   "cell_type": "code",
   "execution_count": null,
   "metadata": {},
   "outputs": [],
   "source": [
    "question = \"In welchem Fach gibt es Deskriptive Statistik?\"\n",
    "print(f\"Question: {question}\")\n",
    "answer = ects_guide_processor.query(question, show_retrieved_chunks=True)\n",
    "display(Markdown(f\"### Answer:\\n{answer}\"))"
   ]
  },
  {
   "cell_type": "markdown",
   "metadata": {},
   "source": [
    "### Dokumenten-Statistik und -Analyse"
   ]
  },
  {
   "cell_type": "code",
   "execution_count": 19,
   "metadata": {},
   "outputs": [
    {
     "data": {
      "text/markdown": [
       "### Document Information"
      ],
      "text/plain": [
       "<IPython.core.display.Markdown object>"
      ]
     },
     "metadata": {},
     "output_type": "display_data"
    },
    {
     "data": {
      "text/markdown": [
       "**Filename:** ECTS_Guide_BSWE-pages-1-10.pdf"
      ],
      "text/plain": [
       "<IPython.core.display.Markdown object>"
      ]
     },
     "metadata": {},
     "output_type": "display_data"
    },
    {
     "data": {
      "text/markdown": [
       "**Pages:** 10"
      ],
      "text/plain": [
       "<IPython.core.display.Markdown object>"
      ]
     },
     "metadata": {},
     "output_type": "display_data"
    },
    {
     "data": {
      "text/markdown": [
       "**Chunks:** 18"
      ],
      "text/plain": [
       "<IPython.core.display.Markdown object>"
      ]
     },
     "metadata": {},
     "output_type": "display_data"
    },
    {
     "data": {
      "text/markdown": [
       "**Average chunk length:** 723.8 characters"
      ],
      "text/plain": [
       "<IPython.core.display.Markdown object>"
      ]
     },
     "metadata": {},
     "output_type": "display_data"
    },
    {
     "data": {
      "text/markdown": [
       "**Number of unique section headings:** 12"
      ],
      "text/plain": [
       "<IPython.core.display.Markdown object>"
      ]
     },
     "metadata": {},
     "output_type": "display_data"
    },
    {
     "data": {
      "text/markdown": [
       "**Content type distribution:**"
      ],
      "text/plain": [
       "<IPython.core.display.Markdown object>"
      ]
     },
     "metadata": {},
     "output_type": "display_data"
    },
    {
     "data": {
      "text/markdown": [
       "- None: 18 chunks"
      ],
      "text/plain": [
       "<IPython.core.display.Markdown object>"
      ]
     },
     "metadata": {},
     "output_type": "display_data"
    }
   ],
   "source": [
    "# Display document information\n",
    "if ects_guide_processor.document_info:\n",
    "    display(Markdown(f\"### Document Information\"))\n",
    "    display(Markdown(f\"**Filename:** {ects_guide_processor.document_info.get('filename', 'Unknown')}\"))\n",
    "    display(Markdown(f\"**Pages:** {ects_guide_processor.document_info.get('num_pages', 'Unknown')}\"))\n",
    "    display(Markdown(f\"**Chunks:** {len(ects_guide_processor.index)}\"))\n",
    "    \n",
    "    # Calculate average chunk length\n",
    "    if ects_guide_processor.index:\n",
    "        avg_chunk_length = sum(len(chunk['text']) for chunk in ects_guide_processor.index) / len(ects_guide_processor.index)\n",
    "        display(Markdown(f\"**Average chunk length:** {avg_chunk_length:.1f} characters\"))\n",
    "        \n",
    "        # Find unique headings\n",
    "        all_headings = set()\n",
    "        for chunk in ects_guide_processor.index:\n",
    "            for heading in chunk['headings']:\n",
    "                # If heading is a dict, extract the text; otherwise, assume it's already a string.\n",
    "                if isinstance(heading, dict):\n",
    "                    all_headings.add(heading.get('text', ''))\n",
    "                else:\n",
    "                    all_headings.add(heading)\n",
    "        \n",
    "        display(Markdown(f\"**Number of unique section headings:** {len(all_headings)}\"))\n",
    "        \n",
    "        # Display content type distribution\n",
    "        content_types = {}\n",
    "        for chunk in ects_guide_processor.index:\n",
    "            content_type = chunk.get('content_type', 'Unknown')\n",
    "            if content_type not in content_types:\n",
    "                content_types[content_type] = 0\n",
    "            content_types[content_type] += 1\n",
    "        \n",
    "        display(Markdown(f\"**Content type distribution:**\"))\n",
    "        for content_type, count in content_types.items():\n",
    "            display(Markdown(f\"- {content_type}: {count} chunks\"))\n",
    "else:\n",
    "    print(\"No document has been processed yet.\")"
   ]
  }
 ],
 "metadata": {
  "kernelspec": {
   "display_name": "Python (aiworkshop)",
   "language": "python",
   "name": "aiworkshop"
  },
  "language_info": {
   "codemirror_mode": {
    "name": "ipython",
    "version": 3
   },
   "file_extension": ".py",
   "mimetype": "text/x-python",
   "name": "python",
   "nbconvert_exporter": "python",
   "pygments_lexer": "ipython3",
   "version": "3.11.11"
  }
 },
 "nbformat": 4,
 "nbformat_minor": 2
}
