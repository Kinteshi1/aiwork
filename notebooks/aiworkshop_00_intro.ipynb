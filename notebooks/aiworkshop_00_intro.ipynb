{
 "cells": [
  {
   "cell_type": "markdown",
   "metadata": {},
   "source": [
    "# Willkommen zum heutigen Workshop \"KI - praktisch angewandt\"!"
   ]
  },
  {
   "cell_type": "markdown",
   "metadata": {},
   "source": [
    "- Ablauf:\n",
    "    - Session 2.1: Vorbereitung (Ollama, virtuelle Umgebung und IDE mit Kernel aufsetzen)\n",
    "    - Session 2.2: LLMs per Api ansprechen, Kontext, Historie\n",
    "    - Session 2.3: Embedding\n",
    "    - Session 2.4: Dokumentenprozessierung, RAG\n",
    "    - Session 2.5: Vektordatenbanken\n",
    "    - Session 2.6: Agents, Function Calling, Tools\n",
    "    - Session 2.7: Besprechung Projektarbeit und -präsentation\n",
    "    - Session 2.8: Allfälliges\n",
    "    - Session 2.9: Start Gruppenarbeit"
   ]
  },
  {
   "cell_type": "markdown",
   "metadata": {},
   "source": [
    "## Ziele"
   ]
  },
  {
   "cell_type": "markdown",
   "metadata": {},
   "source": [
    "- KI-Teilbereich \"Text-GenAI\" durchleuchten und aktuelle Methoden aus dem Bereich praktisch kennenlernen\n",
    "- Gut auf die Projektarbeit und -präsentation vorbereiten -> Werkzeug in die Hände legen\n",
    "- \"Aha\"-Momente und Spaß an der Sache erleben"
   ]
  },
  {
   "cell_type": "markdown",
   "metadata": {},
   "source": [
    "## Zeitliches\n"
   ]
  },
  {
   "cell_type": "markdown",
   "metadata": {},
   "source": [
    "1 LE = 45 Min. -> heute 9 LE = 405 Minuten\n",
    "\n",
    "- **W 08:30 - 10:30   (120')**\n",
    "\n",
    "- _B 10:30 - 10:40   (10')_\n",
    "\n",
    "- **W 10:40 - 12:15   (95')**\n",
    "\n",
    "- _B 12:15 - 12:45   (30') MITTAG_\n",
    "\n",
    "- **W 12:45 - 14:45   (120')**\n",
    "\n",
    "- _B 14:45 - 15:00   (15')_\n",
    "\n",
    "- **W 15:00 - 16:10   (70')**"
   ]
  },
  {
   "cell_type": "markdown",
   "metadata": {},
   "source": [
    "## Restliche Vorstellung"
   ]
  },
  {
   "cell_type": "markdown",
   "metadata": {},
   "source": [
    "![Vorstellungsrunde](assets/image11_vorstellungsrunde.png)"
   ]
  },
  {
   "cell_type": "markdown",
   "metadata": {
    "vscode": {
     "languageId": "plaintext"
    }
   },
   "source": [
    "## Anwesenheit"
   ]
  }
 ],
 "metadata": {
  "kernelspec": {
   "display_name": "Python (aiworkshop)",
   "language": "python",
   "name": "aiworkshop"
  },
  "language_info": {
   "name": "python",
   "version": "3.11.11"
  }
 },
 "nbformat": 4,
 "nbformat_minor": 2
}
